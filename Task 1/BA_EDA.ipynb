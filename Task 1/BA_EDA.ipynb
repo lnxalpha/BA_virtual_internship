{
 "cells": [
  {
   "cell_type": "markdown",
   "id": "bb01c92a",
   "metadata": {},
   "source": [
    "# Performimg exploratory data analysis"
   ]
  },
  {
   "cell_type": "code",
   "execution_count": 13,
   "id": "00f9bf77",
   "metadata": {},
   "outputs": [],
   "source": [
    "#imports\n",
    "import pandas as pd\n",
    "import numpy as np\n",
    "import os\n",
    "import matplotlib.pyplot as plt\n",
    "import seaborn as sns\n",
    "import plotly.express as px\n",
    "import datetime as dt\n",
    "from wordcloud import WordCloud, STOPWORDS\n",
    "\n",
    "cwd = os.getcwd()\n",
    "df = pd.read_csv(cwd+\"/cleaned-BA-reviews.csv\", index_col=0)"
   ]
  },
  {
   "cell_type": "code",
   "execution_count": 14,
   "id": "54c9acfe",
   "metadata": {},
   "outputs": [
    {
     "data": {
      "text/html": [
       "<div>\n",
       "<style scoped>\n",
       "    .dataframe tbody tr th:only-of-type {\n",
       "        vertical-align: middle;\n",
       "    }\n",
       "\n",
       "    .dataframe tbody tr th {\n",
       "        vertical-align: top;\n",
       "    }\n",
       "\n",
       "    .dataframe thead th {\n",
       "        text-align: right;\n",
       "    }\n",
       "</style>\n",
       "<table border=\"1\" class=\"dataframe\">\n",
       "  <thead>\n",
       "    <tr style=\"text-align: right;\">\n",
       "      <th></th>\n",
       "      <th>Reviews</th>\n",
       "      <th>Ratings</th>\n",
       "      <th>Aircraft Type</th>\n",
       "      <th>Traveller</th>\n",
       "      <th>Countries</th>\n",
       "      <th>Flight Ticket</th>\n",
       "      <th>Route</th>\n",
       "      <th>Date Flown</th>\n",
       "      <th>Seat Comfort /5</th>\n",
       "      <th>Cabin Staff Services /5</th>\n",
       "      <th>Food and beverages /5</th>\n",
       "      <th>Ground service /5</th>\n",
       "      <th>Value for money /5</th>\n",
       "      <th>Recommended</th>\n",
       "      <th>verified</th>\n",
       "      <th>corpus</th>\n",
       "    </tr>\n",
       "  </thead>\n",
       "  <tbody>\n",
       "    <tr>\n",
       "      <th>1</th>\n",
       "      <td>✅ Trip Verified |  Would happily fly them agai...</td>\n",
       "      <td>10.0</td>\n",
       "      <td>Boeing 777 / A320</td>\n",
       "      <td>Solo Leisure</td>\n",
       "      <td>United States</td>\n",
       "      <td>Economy Class</td>\n",
       "      <td>New York to Istanbul via London</td>\n",
       "      <td>March 2023</td>\n",
       "      <td>5.0</td>\n",
       "      <td>5.0</td>\n",
       "      <td>5.0</td>\n",
       "      <td>5.0</td>\n",
       "      <td>5</td>\n",
       "      <td>yes</td>\n",
       "      <td>True</td>\n",
       "      <td>would happily fly personal emergency allowed r...</td>\n",
       "    </tr>\n",
       "    <tr>\n",
       "      <th>3</th>\n",
       "      <td>✅ Trip Verified |  First our morning flight wa...</td>\n",
       "      <td>1.0</td>\n",
       "      <td>A321neo</td>\n",
       "      <td>Business</td>\n",
       "      <td>Canada</td>\n",
       "      <td>Business Class</td>\n",
       "      <td>London to Cairo</td>\n",
       "      <td>January 2023</td>\n",
       "      <td>1.0</td>\n",
       "      <td>2.0</td>\n",
       "      <td>1.0</td>\n",
       "      <td>3.0</td>\n",
       "      <td>1</td>\n",
       "      <td>no</td>\n",
       "      <td>True</td>\n",
       "      <td>first morning flight cancelled moved afternoon...</td>\n",
       "    </tr>\n",
       "    <tr>\n",
       "      <th>4</th>\n",
       "      <td>✅ Trip Verified |  Although it was a bit uncom...</td>\n",
       "      <td>8.0</td>\n",
       "      <td>Boeing 787</td>\n",
       "      <td>Solo Leisure</td>\n",
       "      <td>United Kingdom</td>\n",
       "      <td>Economy Class</td>\n",
       "      <td>London Singapore</td>\n",
       "      <td>February 2023</td>\n",
       "      <td>3.0</td>\n",
       "      <td>5.0</td>\n",
       "      <td>5.0</td>\n",
       "      <td>5.0</td>\n",
       "      <td>4</td>\n",
       "      <td>yes</td>\n",
       "      <td>True</td>\n",
       "      <td>although bit uncomfortable flight economy flig...</td>\n",
       "    </tr>\n",
       "    <tr>\n",
       "      <th>5</th>\n",
       "      <td>✅ Trip Verified |  Boarding was decently organ...</td>\n",
       "      <td>6.0</td>\n",
       "      <td>A380</td>\n",
       "      <td>Business</td>\n",
       "      <td>Belgium</td>\n",
       "      <td>Business Class</td>\n",
       "      <td>London to Dubai</td>\n",
       "      <td>February 2023</td>\n",
       "      <td>2.0</td>\n",
       "      <td>3.0</td>\n",
       "      <td>2.0</td>\n",
       "      <td>4.0</td>\n",
       "      <td>3</td>\n",
       "      <td>yes</td>\n",
       "      <td>True</td>\n",
       "      <td>boarding decently organised still rather stran...</td>\n",
       "    </tr>\n",
       "    <tr>\n",
       "      <th>6</th>\n",
       "      <td>✅ Trip Verified | Boarding on time and departu...</td>\n",
       "      <td>7.0</td>\n",
       "      <td>A320</td>\n",
       "      <td>Business</td>\n",
       "      <td>Belgium</td>\n",
       "      <td>Business Class</td>\n",
       "      <td>Brussels to London</td>\n",
       "      <td>February 2023</td>\n",
       "      <td>2.0</td>\n",
       "      <td>4.0</td>\n",
       "      <td>4.0</td>\n",
       "      <td>4.0</td>\n",
       "      <td>4</td>\n",
       "      <td>yes</td>\n",
       "      <td>True</td>\n",
       "      <td>boarding time departure time flight london hea...</td>\n",
       "    </tr>\n",
       "  </tbody>\n",
       "</table>\n",
       "</div>"
      ],
      "text/plain": [
       "                                             Reviews  Ratings  \\\n",
       "1  ✅ Trip Verified |  Would happily fly them agai...     10.0   \n",
       "3  ✅ Trip Verified |  First our morning flight wa...      1.0   \n",
       "4  ✅ Trip Verified |  Although it was a bit uncom...      8.0   \n",
       "5  ✅ Trip Verified |  Boarding was decently organ...      6.0   \n",
       "6  ✅ Trip Verified | Boarding on time and departu...      7.0   \n",
       "\n",
       "       Aircraft Type     Traveller       Countries   Flight Ticket  \\\n",
       "1  Boeing 777 / A320  Solo Leisure   United States   Economy Class   \n",
       "3            A321neo      Business          Canada  Business Class   \n",
       "4         Boeing 787  Solo Leisure  United Kingdom   Economy Class   \n",
       "5               A380      Business         Belgium  Business Class   \n",
       "6               A320      Business         Belgium  Business Class   \n",
       "\n",
       "                             Route     Date Flown  Seat Comfort /5  \\\n",
       "1  New York to Istanbul via London     March 2023              5.0   \n",
       "3                  London to Cairo   January 2023              1.0   \n",
       "4                London Singapore   February 2023              3.0   \n",
       "5                  London to Dubai  February 2023              2.0   \n",
       "6               Brussels to London  February 2023              2.0   \n",
       "\n",
       "   Cabin Staff Services /5  Food and beverages /5  Ground service /5  \\\n",
       "1                      5.0                    5.0                5.0   \n",
       "3                      2.0                    1.0                3.0   \n",
       "4                      5.0                    5.0                5.0   \n",
       "5                      3.0                    2.0                4.0   \n",
       "6                      4.0                    4.0                4.0   \n",
       "\n",
       "   Value for money /5 Recommended  verified  \\\n",
       "1                   5         yes      True   \n",
       "3                   1          no      True   \n",
       "4                   4         yes      True   \n",
       "5                   3         yes      True   \n",
       "6                   4         yes      True   \n",
       "\n",
       "                                              corpus  \n",
       "1  would happily fly personal emergency allowed r...  \n",
       "3  first morning flight cancelled moved afternoon...  \n",
       "4  although bit uncomfortable flight economy flig...  \n",
       "5  boarding decently organised still rather stran...  \n",
       "6  boarding time departure time flight london hea...  "
      ]
     },
     "execution_count": 14,
     "metadata": {},
     "output_type": "execute_result"
    }
   ],
   "source": [
    "df.head()"
   ]
  },
  {
   "cell_type": "code",
   "execution_count": 3,
   "id": "e2748c23",
   "metadata": {},
   "outputs": [
    {
     "name": "stdout",
     "output_type": "stream",
     "text": [
      "5.332551319648094\n",
      "0    Economy Class\n",
      "dtype: object\n",
      "0    A320\n",
      "dtype: object\n"
     ]
    }
   ],
   "source": [
    "# ratings mean\n",
    "ratings_mean = df[\"Ratings\"].mean()\n",
    "print(ratings_mean)\n",
    "\n",
    "# most common flight ticket\n",
    "flight_ticket_mode = df[\"Flight Ticket\"].mode()\n",
    "print(flight_ticket_mode)\n",
    "\n",
    "# most common airplane \n",
    "airplane_mode = df[\"Aircraft Type\"].mode()\n",
    "print(airplane_mode)"
   ]
  },
  {
   "cell_type": "markdown",
   "id": "2be311fb",
   "metadata": {},
   "source": [
    "Using the fact that A320 is the most used Aircraft, Calculating how well it does considering other factors"
   ]
  },
  {
   "cell_type": "code",
   "execution_count": 4,
   "id": "12034d02",
   "metadata": {},
   "outputs": [
    {
     "name": "stdout",
     "output_type": "stream",
     "text": [
      "The most common seat comfort rating for A320s is: 0    3.0\n",
      "dtype: float64\n",
      "The most common Aircraft Type for Seat comfort rating '5' is: 0    A380\n",
      "dtype: object\n",
      "The most common Aircraft Type for cabin staff service rating '5' is: 0    A320\n",
      "dtype: object\n",
      "The most common Aircraft Type for Food and Beverages rating '5' is: 0    A320\n",
      "dtype: object\n",
      "The most common Aircraft Type for Ground Service rating '5' is: 0    A320\n",
      "dtype: object\n",
      "The most common Aircraft Type for Value for Money rating '5' is: 0    A320\n",
      "dtype: object\n",
      "The most Recommended aircraft is: 0    Boeing 777\n",
      "dtype: object\n"
     ]
    }
   ],
   "source": [
    "# calculating the highest starred aircraft\n",
    "# Filter the DataFrame to include only A320 aircrafts\n",
    "a320_df = df[df[\"Aircraft Type\"] == \"A320\"]\n",
    "# Calculate the mode of the \"Seat Comfort /5\" column for the filtered DataFrame\n",
    "seat_comfort_mode = a320_df[\"Seat Comfort /5\"].mode()\n",
    "# Print the mode\n",
    "print(\"The most common seat comfort rating for A320s is:\", seat_comfort_mode)\n",
    "\n",
    "\n",
    "# Filter the DataFrame to include only '5' seat_comfort ratings\n",
    "seat_comfort_5 = df[df[\"Seat Comfort /5\"] == 5]\n",
    "# Calculate the mode of the aircraft column for the filtered DataFrame\n",
    "aircraft_mode = seat_comfort_5[\"Aircraft Type\"].mode()\n",
    "# Print the mode\n",
    "print(\"The most common Aircraft Type for Seat comfort rating '5' is:\", aircraft_mode)\n",
    "\n",
    "\n",
    "# Filter the DataFrame to include only '5' cabin ratings\n",
    "cabin_5 = df[df[\"Cabin Staff Services /5\"] == 5]\n",
    "# Calculate the mode of the aircraft column for the filtered DataFrame\n",
    "aircraft_mode = cabin_5[\"Aircraft Type\"].mode()\n",
    "# Print the mode\n",
    "print(\"The most common Aircraft Type for cabin staff service rating '5' is:\", aircraft_mode)\n",
    "\n",
    "# Filter the DataFrame to include only '5' FnB ratings\n",
    "FnB_5 = df[df[\"Food and beverages /5\"] == 5]\n",
    "# Calculate the mode of the aircraft column for the filtered DataFrame\n",
    "aircraft_mode = FnB_5[\"Aircraft Type\"].mode()\n",
    "# Print the mode\n",
    "print(\"The most common Aircraft Type for Food and Beverages rating '5' is:\", aircraft_mode)\n",
    "\n",
    "\n",
    "# Filter the DataFrame to include only '5' groundt ratings\n",
    "ground_5 = df[df[\"Ground service /5\"] == 5]\n",
    "# Calculate the mode of the aircraft column for the filtered DataFrame\n",
    "aircraft_mode = ground_5[\"Aircraft Type\"].mode()\n",
    "# Print the mode\n",
    "print(\"The most common Aircraft Type for Ground Service rating '5' is:\", aircraft_mode)\n",
    "\n",
    "\n",
    "# Filter the DataFrame to include only '5' value ratings\n",
    "value_5 = df[df[\"Value for money /5\"] == 5]\n",
    "# Calculate the mode of the aircraft column for the filtered DataFrame\n",
    "aircraft_mode = value_5[\"Aircraft Type\"].mode()\n",
    "# Print the mode\n",
    "print(\"The most common Aircraft Type for Value for Money rating '5' is:\", aircraft_mode)\n",
    "\n",
    "\n",
    "# Filter the DataFrame to include only rows where the \"Recommended\" column is True\n",
    "recommended = df[df[\"Recommended\"] == \"no\"]\n",
    "# Calculate the mode of the \"Aircraft Type\" column for the filtered DataFrame\n",
    "aircraft_mode = recommended[\"Aircraft Type\"].mode()\n",
    "# Print the mode\n",
    "print(\"The most Recommended aircraft is:\", aircraft_mode)"
   ]
  },
  {
   "cell_type": "code",
   "execution_count": 5,
   "id": "42bb7241",
   "metadata": {},
   "outputs": [
    {
     "data": {
      "text/plain": [
       "Text(0.5, 0.98, 'Counts for each ratings')"
      ]
     },
     "execution_count": 5,
     "metadata": {},
     "output_type": "execute_result"
    },
    {
     "data": {
      "image/png": "[encoded data removed]",
      "text/plain": [
       "<Figure size 432x288 with 1 Axes>"
      ]
     },
     "metadata": {
      "needs_background": "light"
     },
     "output_type": "display_data"
    }
   ],
   "source": [
    "df.Ratings.value_counts().plot(kind=\"bar\")\n",
    "plt.xlabel(\"Ratings\")\n",
    "plt.ylabel(\"Total Number of reviews with that rating\")\n",
    "plt.suptitle(\"Counts for each ratings\")"
   ]
  },
  {
   "cell_type": "code",
   "execution_count": 6,
   "id": "954aea3a",
   "metadata": {},
   "outputs": [
    {
     "data": {
      "text/plain": [
       "Text(0.5, 0.98, 'Counts for each ratings')"
      ]
     },
     "execution_count": 6,
     "metadata": {},
     "output_type": "execute_result"
    },
    {
     "data": {
      "image/png": "[encoded data removed]",
      "text/plain": [
       "<Figure size 432x288 with 1 Axes>"
      ]
     },
     "metadata": {
      "needs_background": "light"
     },
     "output_type": "display_data"
    }
   ],
   "source": [
    "df.Traveller.value_counts().plot(kind=\"bar\")\n",
    "plt.xlabel(\"Travellers\")\n",
    "plt.ylabel(\"Total Number of travellers with that rating\")\n",
    "plt.suptitle(\"Counts for each ratings\")"
   ]
  },
  {
   "cell_type": "code",
   "execution_count": 9,
   "id": "58a72c16",
   "metadata": {},
   "outputs": [
    {
     "data": {
      "text/plain": [
       "Text(0.5, 1.0, 'Top 12 Countries with avg highest rating provided to British Airways')"
      ]
     },
     "execution_count": 9,
     "metadata": {},
     "output_type": "execute_result"
    },
    {
     "data": {
      "image/png": "[encoded data removed]",
      "text/plain": [
       "<Figure size 1296x360 with 1 Axes>"
      ]
     },
     "metadata": {
      "needs_background": "light"
     },
     "output_type": "display_data"
    }
   ],
   "source": [
    "df_country_rating = pd.DataFrame(df.groupby('Countries').mean()['Ratings'].sort_values(ascending=False)).reset_index()\n",
    "df_country_rating.rename(columns={'Ratings':'avg_rating'}, inplace=True)\n",
    "fig, ax = plt.subplots(figsize=(18,5))\n",
    "ax1 = sns.barplot(x='Countries', y='avg_rating', data=df_country_rating[:12])\n",
    "ax.set_title(\"Top 12 Countries with avg highest rating provided to British Airways\")"
   ]
  },
  {
   "cell_type": "code",
   "execution_count": null,
   "id": "dce24258",
   "metadata": {},
   "outputs": [],
   "source": []
  },
  {
   "cell_type": "code",
   "execution_count": null,
   "id": "88712201",
   "metadata": {},
   "outputs": [],
   "source": [
    "import pandas as pd\n",
    "import numpy as np\n",
    "import os\n",
    "import matplotlib.pyplot as plt\n",
    "import seaborn as sns\n",
    "import plotly.express as px\n",
    "import datetime as dt\n",
    "from wordcloud import WordCloud, STOPWORDS\n",
    "\n",
    "# Load the dataset\n",
    "cwd = os.getcwd()\n",
    "df = pd.read_csv(cwd + \"/cleaned-BA-reviews.csv\", index_col=0)\n",
    "\n",
    "# Check the structure of the dataset\n",
    "print(df.head())\n",
    "print(df.info())\n",
    "\n",
    "# Explore the variables and their distributions\n",
    "print(df.describe())\n",
    "\n",
    "# Check for missing values\n",
    "print(df.isnull().sum())\n",
    "\n",
    "# Handle missing values\n",
    "# Drop columns with a large number of missing values\n",
    "df = df.drop(['column_name'], axis=1)\n",
    "\n",
    "# Replace missing values in other columns with the mean or mode\n",
    "df['column_name'] = df['column_name'].fillna(df['column_name'].mean())\n",
    "df['column_name'] = df['column_name'].fillna(df['column_name'].mode()[0])\n",
    "\n",
    "# Check for outliers\n",
    "# Plot boxplots to check for outliers in numerical variables\n",
    "num_cols = ['column1', 'column2']\n",
    "for col in num_cols:\n",
    "    sns.boxplot(df[col])\n",
    "    plt.show()\n",
    "\n",
    "# Identify and remove outliers\n",
    "# Calculate the IQR (interquartile range) for each numerical variable\n",
    "Q1 = df[num_cols].quantile(0.25)\n",
    "Q3 = df[num_cols].quantile(0.75)\n",
    "IQR = Q3 - Q1\n",
    "print(IQR)\n",
    "\n",
    "# Remove outliers based on the IQR\n",
    "df = df[~((df[num_cols] < (Q1 - 1.5 * IQR)) |(df[num_cols] > (Q3 + 1.5 * IQR))).any(axis=1)]\n",
    "\n",
    "# Check for correlations between variables\n",
    "corr = df.corr()\n",
    "sns.heatmap(corr, cmap='coolwarm', annot=True)\n",
    "plt.show()\n",
    "\n",
    "# Create a wordcloud of the most frequent words in the reviews\n",
    "text = ' '.join(df['review_text'].astype(str))\n",
    "stopwords = set(STOPWORDS)\n",
    "wordcloud = WordCloud(stopwords=stopwords, background_color='white').generate(text)\n",
    "plt.imshow(wordcloud, interpolation='bilinear')\n",
    "plt.axis(\"off\")\n",
    "plt.show()\n",
    "\n",
    "# Create scatter plots to visualize the relationship between numerical variables\n",
    "fig = px.scatter(df, x='column1', y='column2', color='category_column')\n",
    "fig.show()\n",
    "\n",
    "# data cleaning\n",
    "# Convert data types\n",
    "df['column_name'] = df['column_name'].astype(float)\n",
    "\n",
    "# Save the cleaned data\n",
    "df.to_csv('cleaned_data.csv', index=False)"
   ]
  }
 ],
 "metadata": {
  "kernelspec": {
   "display_name": "Python 3",
   "language": "python",
   "name": "python3"
  },
  "language_info": {
   "codemirror_mode": {
    "name": "ipython",
    "version": 3
   },
   "file_extension": ".py",
   "mimetype": "text/x-python",
   "name": "python",
   "nbconvert_exporter": "python",
   "pygments_lexer": "ipython3",
   "version": "3.8.8"
  }
 },
 "nbformat": 4,
 "nbformat_minor": 5
}
